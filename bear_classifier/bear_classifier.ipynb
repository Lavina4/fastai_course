{
  "cells": [
    {
      "cell_type": "code",
      "execution_count": 1,
      "metadata": {
        "id": "lFjuKstfwunv"
      },
      "outputs": [],
      "source": [
        "from fastai.vision.all import *\n",
        "from fastai.vision.widgets import *"
      ]
    },
    {
      "cell_type": "code",
      "execution_count": 2,
      "metadata": {
        "id": "_-B2A26y6fFQ"
      },
      "outputs": [
        {
          "name": "stderr",
          "output_type": "stream",
          "text": [
            "/Users/lavina/Documents/fastai_course/fastai_course/venv/lib/python3.12/site-packages/fastai/learner.py:455: UserWarning: load_learner` uses Python's insecure pickle module, which can execute malicious arbitrary code when loading. Only load files you trust.\n",
            "If you only need to load model weights and optimizer state, use the safe `Learner.load` instead.\n",
            "  warn(\"load_learner` uses Python's insecure pickle module, which can execute malicious arbitrary code when loading. Only load files you trust.\\nIf you only need to load model weights and optimizer state, use the safe `Learner.load` instead.\")\n"
          ]
        }
      ],
      "source": [
        "path = Path()\n",
        "learner_inf = load_learner(f'{path}/export.pkl')"
      ]
    },
    {
      "cell_type": "code",
      "execution_count": null,
      "metadata": {
        "id": "wF3UDrvP34hy"
      },
      "outputs": [
        {
          "data": {
            "text/html": [
              "\n",
              "<style>\n",
              "    /* Turns off some styling */\n",
              "    progress {\n",
              "        /* gets rid of default border in Firefox and Opera. */\n",
              "        border: none;\n",
              "        /* Needs to be in here for Safari polyfill so background images work as expected. */\n",
              "        background-size: auto;\n",
              "    }\n",
              "    progress:not([value]), progress:not([value])::-webkit-progress-bar {\n",
              "        background: repeating-linear-gradient(45deg, #7e7e7e, #7e7e7e 10px, #5c5c5c 10px, #5c5c5c 20px);\n",
              "    }\n",
              "    .progress-bar-interrupted, .progress-bar-interrupted::-webkit-progress-bar {\n",
              "        background: #F44336;\n",
              "    }\n",
              "</style>\n"
            ],
            "text/plain": [
              "<IPython.core.display.HTML object>"
            ]
          },
          "metadata": {},
          "output_type": "display_data"
        },
        {
          "data": {
            "text/html": [],
            "text/plain": [
              "<IPython.core.display.HTML object>"
            ]
          },
          "metadata": {},
          "output_type": "display_data"
        }
      ],
      "source": [
        "btn_upload = widgets.FileUpload()\n",
        "lbl_pred = widgets.Label()\n",
        "output = widgets.Output()\n",
        "btn_run = widgets.Button(description='Classify')\n",
        "\n",
        "def on_click_classify(change):\n",
        "    img_bytes = btn_upload.value[0]['content'].tobytes()\n",
        "    img = PILImage.create(img_bytes)\n",
        "    output.clear_output()\n",
        "    with output: display(img.to_thumb(128,128))\n",
        "    pred,pred_idx,probs = learner_inf.predict(img)\n",
        "    lbl_pred.value = f'Prediction: {pred}; Probability: {probs[pred_idx]:.04f}'\n",
        "\n",
        "btn_run.on_click(on_click_classify)"
      ]
    },
    {
      "cell_type": "code",
      "execution_count": 4,
      "metadata": {
        "colab": {
          "base_uri": "https://localhost:8080/",
          "height": 273,
          "referenced_widgets": [
            "5bce7390e0c949ff86ec437efa28e67f",
            "28f45489b12745a98a6b57f70ce94ef2",
            "5586abc24f60410b9b94fa53313181e2",
            "ac26abf9aafa40ba8aa732808fbded90",
            "a23adf64ea5447b18c4ee538497c00b1",
            "2880764be72646e09b4932dbbce984e0",
            "9836589e89144d9c9ee2bb80fc42ca5a",
            "7e7351e3767242479cfe9b8db602e22e",
            "379dbc0d343840319feb0349dcc9a63d",
            "dddfbf2e2f0344b8812c12a35de6da44",
            "abb74d5b8ffb408ca869bcce25ca4641",
            "0f894186530c4bbe9a1cd1fe0855d700",
            "da056458338c4cd4a9c2888fb83d3b72",
            "36cbd697cd3945809309dc3ee79ee18c",
            "fa22f9fd75a2483b80ea09d134bc1ef8",
            "466049ee681e45dd8181fcc979997601"
          ]
        },
        "id": "ukeD-RN04CNx",
        "outputId": "1f8c60d5-662a-4f8f-caa2-08655d017129"
      },
      "outputs": [
        {
          "data": {
            "application/vnd.jupyter.widget-view+json": {
              "model_id": "b8c44c8832ed4c0aa2dda7c99a502068",
              "version_major": 2,
              "version_minor": 0
            },
            "text/plain": [
              "VBox(children=(Label(value='Select your bear!'), FileUpload(value=(), description='Upload'), Button(descriptio…"
            ]
          },
          "execution_count": 4,
          "metadata": {},
          "output_type": "execute_result"
        }
      ],
      "source": [
        "VBox([widgets.Label('Select your bear!'),\n",
        "      btn_upload, btn_run, output, lbl_pred])"
      ]
    },
    {
      "cell_type": "code",
      "execution_count": null,
      "metadata": {},
      "outputs": [],
      "source": []
    }
  ],
  "metadata": {
    "colab": {
      "provenance": []
    },
    "kernelspec": {
      "display_name": "venv",
      "language": "python",
      "name": "python3"
    },
    "language_info": {
      "codemirror_mode": {
        "name": "ipython",
        "version": 3
      },
      "file_extension": ".py",
      "mimetype": "text/x-python",
      "name": "python",
      "nbconvert_exporter": "python",
      "pygments_lexer": "ipython3",
      "version": "3.12.4"
    },
    "widgets": {
      "application/vnd.jupyter.widget-state+json": {
        "0f894186530c4bbe9a1cd1fe0855d700": {
          "model_module": "@jupyter-widgets/base",
          "model_module_version": "1.2.0",
          "model_name": "LayoutModel",
          "state": {
            "_model_module": "@jupyter-widgets/base",
            "_model_module_version": "1.2.0",
            "_model_name": "LayoutModel",
            "_view_count": null,
            "_view_module": "@jupyter-widgets/base",
            "_view_module_version": "1.2.0",
            "_view_name": "LayoutView",
            "align_content": null,
            "align_items": null,
            "align_self": null,
            "border": null,
            "bottom": null,
            "display": null,
            "flex": null,
            "flex_flow": null,
            "grid_area": null,
            "grid_auto_columns": null,
            "grid_auto_flow": null,
            "grid_auto_rows": null,
            "grid_column": null,
            "grid_gap": null,
            "grid_row": null,
            "grid_template_areas": null,
            "grid_template_columns": null,
            "grid_template_rows": null,
            "height": null,
            "justify_content": null,
            "justify_items": null,
            "left": null,
            "margin": null,
            "max_height": null,
            "max_width": null,
            "min_height": null,
            "min_width": null,
            "object_fit": null,
            "object_position": null,
            "order": null,
            "overflow": null,
            "overflow_x": null,
            "overflow_y": null,
            "padding": null,
            "right": null,
            "top": null,
            "visibility": null,
            "width": null
          }
        },
        "2880764be72646e09b4932dbbce984e0": {
          "model_module": "@jupyter-widgets/controls",
          "model_module_version": "1.5.0",
          "model_name": "LabelModel",
          "state": {
            "_dom_classes": [],
            "_model_module": "@jupyter-widgets/controls",
            "_model_module_version": "1.5.0",
            "_model_name": "LabelModel",
            "_view_count": null,
            "_view_module": "@jupyter-widgets/controls",
            "_view_module_version": "1.5.0",
            "_view_name": "LabelView",
            "description": "",
            "description_tooltip": null,
            "layout": "IPY_MODEL_36cbd697cd3945809309dc3ee79ee18c",
            "placeholder": "​",
            "style": "IPY_MODEL_fa22f9fd75a2483b80ea09d134bc1ef8",
            "value": "Prediction: black; Probability: 0.9244"
          }
        },
        "28f45489b12745a98a6b57f70ce94ef2": {
          "model_module": "@jupyter-widgets/controls",
          "model_module_version": "1.5.0",
          "model_name": "LabelModel",
          "state": {
            "_dom_classes": [],
            "_model_module": "@jupyter-widgets/controls",
            "_model_module_version": "1.5.0",
            "_model_name": "LabelModel",
            "_view_count": null,
            "_view_module": "@jupyter-widgets/controls",
            "_view_module_version": "1.5.0",
            "_view_name": "LabelView",
            "description": "",
            "description_tooltip": null,
            "layout": "IPY_MODEL_7e7351e3767242479cfe9b8db602e22e",
            "placeholder": "​",
            "style": "IPY_MODEL_379dbc0d343840319feb0349dcc9a63d",
            "value": "Select your bear!"
          }
        },
        "36cbd697cd3945809309dc3ee79ee18c": {
          "model_module": "@jupyter-widgets/base",
          "model_module_version": "1.2.0",
          "model_name": "LayoutModel",
          "state": {
            "_model_module": "@jupyter-widgets/base",
            "_model_module_version": "1.2.0",
            "_model_name": "LayoutModel",
            "_view_count": null,
            "_view_module": "@jupyter-widgets/base",
            "_view_module_version": "1.2.0",
            "_view_name": "LayoutView",
            "align_content": null,
            "align_items": null,
            "align_self": null,
            "border": null,
            "bottom": null,
            "display": null,
            "flex": null,
            "flex_flow": null,
            "grid_area": null,
            "grid_auto_columns": null,
            "grid_auto_flow": null,
            "grid_auto_rows": null,
            "grid_column": null,
            "grid_gap": null,
            "grid_row": null,
            "grid_template_areas": null,
            "grid_template_columns": null,
            "grid_template_rows": null,
            "height": null,
            "justify_content": null,
            "justify_items": null,
            "left": null,
            "margin": null,
            "max_height": null,
            "max_width": null,
            "min_height": null,
            "min_width": null,
            "object_fit": null,
            "object_position": null,
            "order": null,
            "overflow": null,
            "overflow_x": null,
            "overflow_y": null,
            "padding": null,
            "right": null,
            "top": null,
            "visibility": null,
            "width": null
          }
        },
        "379dbc0d343840319feb0349dcc9a63d": {
          "model_module": "@jupyter-widgets/controls",
          "model_module_version": "1.5.0",
          "model_name": "DescriptionStyleModel",
          "state": {
            "_model_module": "@jupyter-widgets/controls",
            "_model_module_version": "1.5.0",
            "_model_name": "DescriptionStyleModel",
            "_view_count": null,
            "_view_module": "@jupyter-widgets/base",
            "_view_module_version": "1.2.0",
            "_view_name": "StyleView",
            "description_width": ""
          }
        },
        "466049ee681e45dd8181fcc979997601": {
          "model_module": "@jupyter-widgets/base",
          "model_module_version": "1.2.0",
          "model_name": "LayoutModel",
          "state": {
            "_model_module": "@jupyter-widgets/base",
            "_model_module_version": "1.2.0",
            "_model_name": "LayoutModel",
            "_view_count": null,
            "_view_module": "@jupyter-widgets/base",
            "_view_module_version": "1.2.0",
            "_view_name": "LayoutView",
            "align_content": null,
            "align_items": null,
            "align_self": null,
            "border": null,
            "bottom": null,
            "display": null,
            "flex": null,
            "flex_flow": null,
            "grid_area": null,
            "grid_auto_columns": null,
            "grid_auto_flow": null,
            "grid_auto_rows": null,
            "grid_column": null,
            "grid_gap": null,
            "grid_row": null,
            "grid_template_areas": null,
            "grid_template_columns": null,
            "grid_template_rows": null,
            "height": null,
            "justify_content": null,
            "justify_items": null,
            "left": null,
            "margin": null,
            "max_height": null,
            "max_width": null,
            "min_height": null,
            "min_width": null,
            "object_fit": null,
            "object_position": null,
            "order": null,
            "overflow": null,
            "overflow_x": null,
            "overflow_y": null,
            "padding": null,
            "right": null,
            "top": null,
            "visibility": null,
            "width": null
          }
        },
        "5586abc24f60410b9b94fa53313181e2": {
          "model_module": "@jupyter-widgets/controls",
          "model_module_version": "1.5.0",
          "model_name": "FileUploadModel",
          "state": {
            "_counter": 1,
            "_dom_classes": [],
            "_model_module": "@jupyter-widgets/controls",
            "_model_module_version": "1.5.0",
            "_model_name": "FileUploadModel",
            "_view_count": null,
            "_view_module": "@jupyter-widgets/controls",
            "_view_module_version": "1.5.0",
            "_view_name": "FileUploadView",
            "accept": "",
            "button_style": "",
            "data": [
              null
            ],
            "description": "Upload",
            "description_tooltip": null,
            "disabled": false,
            "error": "",
            "icon": "upload",
            "layout": "IPY_MODEL_dddfbf2e2f0344b8812c12a35de6da44",
            "metadata": [
              {
                "lastModified": 1755587551000,
                "name": "DSC01306-2__29109.jpg",
                "size": 32907,
                "type": "image/jpeg"
              }
            ],
            "multiple": false,
            "style": "IPY_MODEL_abb74d5b8ffb408ca869bcce25ca4641"
          }
        },
        "5bce7390e0c949ff86ec437efa28e67f": {
          "model_module": "@jupyter-widgets/controls",
          "model_module_version": "1.5.0",
          "model_name": "VBoxModel",
          "state": {
            "_dom_classes": [],
            "_model_module": "@jupyter-widgets/controls",
            "_model_module_version": "1.5.0",
            "_model_name": "VBoxModel",
            "_view_count": null,
            "_view_module": "@jupyter-widgets/controls",
            "_view_module_version": "1.5.0",
            "_view_name": "VBoxView",
            "box_style": "",
            "children": [
              "IPY_MODEL_28f45489b12745a98a6b57f70ce94ef2",
              "IPY_MODEL_5586abc24f60410b9b94fa53313181e2",
              "IPY_MODEL_ac26abf9aafa40ba8aa732808fbded90",
              "IPY_MODEL_a23adf64ea5447b18c4ee538497c00b1",
              "IPY_MODEL_2880764be72646e09b4932dbbce984e0"
            ],
            "layout": "IPY_MODEL_9836589e89144d9c9ee2bb80fc42ca5a"
          }
        },
        "7e7351e3767242479cfe9b8db602e22e": {
          "model_module": "@jupyter-widgets/base",
          "model_module_version": "1.2.0",
          "model_name": "LayoutModel",
          "state": {
            "_model_module": "@jupyter-widgets/base",
            "_model_module_version": "1.2.0",
            "_model_name": "LayoutModel",
            "_view_count": null,
            "_view_module": "@jupyter-widgets/base",
            "_view_module_version": "1.2.0",
            "_view_name": "LayoutView",
            "align_content": null,
            "align_items": null,
            "align_self": null,
            "border": null,
            "bottom": null,
            "display": null,
            "flex": null,
            "flex_flow": null,
            "grid_area": null,
            "grid_auto_columns": null,
            "grid_auto_flow": null,
            "grid_auto_rows": null,
            "grid_column": null,
            "grid_gap": null,
            "grid_row": null,
            "grid_template_areas": null,
            "grid_template_columns": null,
            "grid_template_rows": null,
            "height": null,
            "justify_content": null,
            "justify_items": null,
            "left": null,
            "margin": null,
            "max_height": null,
            "max_width": null,
            "min_height": null,
            "min_width": null,
            "object_fit": null,
            "object_position": null,
            "order": null,
            "overflow": null,
            "overflow_x": null,
            "overflow_y": null,
            "padding": null,
            "right": null,
            "top": null,
            "visibility": null,
            "width": null
          }
        },
        "9836589e89144d9c9ee2bb80fc42ca5a": {
          "model_module": "@jupyter-widgets/base",
          "model_module_version": "1.2.0",
          "model_name": "LayoutModel",
          "state": {
            "_model_module": "@jupyter-widgets/base",
            "_model_module_version": "1.2.0",
            "_model_name": "LayoutModel",
            "_view_count": null,
            "_view_module": "@jupyter-widgets/base",
            "_view_module_version": "1.2.0",
            "_view_name": "LayoutView",
            "align_content": null,
            "align_items": null,
            "align_self": null,
            "border": null,
            "bottom": null,
            "display": null,
            "flex": null,
            "flex_flow": null,
            "grid_area": null,
            "grid_auto_columns": null,
            "grid_auto_flow": null,
            "grid_auto_rows": null,
            "grid_column": null,
            "grid_gap": null,
            "grid_row": null,
            "grid_template_areas": null,
            "grid_template_columns": null,
            "grid_template_rows": null,
            "height": null,
            "justify_content": null,
            "justify_items": null,
            "left": null,
            "margin": null,
            "max_height": null,
            "max_width": null,
            "min_height": null,
            "min_width": null,
            "object_fit": null,
            "object_position": null,
            "order": null,
            "overflow": null,
            "overflow_x": null,
            "overflow_y": null,
            "padding": null,
            "right": null,
            "top": null,
            "visibility": null,
            "width": null
          }
        },
        "a23adf64ea5447b18c4ee538497c00b1": {
          "model_module": "@jupyter-widgets/output",
          "model_module_version": "1.0.0",
          "model_name": "OutputModel",
          "state": {
            "_dom_classes": [],
            "_model_module": "@jupyter-widgets/output",
            "_model_module_version": "1.0.0",
            "_model_name": "OutputModel",
            "_view_count": null,
            "_view_module": "@jupyter-widgets/output",
            "_view_module_version": "1.0.0",
            "_view_name": "OutputView",
            "layout": "IPY_MODEL_466049ee681e45dd8181fcc979997601",
            "msg_id": "",
            "outputs": [
              {
                "data": {
                  "image/jpeg": "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\n",
                  "image/png": "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\n",
                  "text/plain": "<PIL.Image.Image image mode=RGB size=128x128>"
                },
                "metadata": {},
                "output_type": "display_data"
              }
            ]
          }
        },
        "abb74d5b8ffb408ca869bcce25ca4641": {
          "model_module": "@jupyter-widgets/controls",
          "model_module_version": "1.5.0",
          "model_name": "ButtonStyleModel",
          "state": {
            "_model_module": "@jupyter-widgets/controls",
            "_model_module_version": "1.5.0",
            "_model_name": "ButtonStyleModel",
            "_view_count": null,
            "_view_module": "@jupyter-widgets/base",
            "_view_module_version": "1.2.0",
            "_view_name": "StyleView",
            "button_color": null,
            "font_weight": ""
          }
        },
        "ac26abf9aafa40ba8aa732808fbded90": {
          "model_module": "@jupyter-widgets/controls",
          "model_module_version": "1.5.0",
          "model_name": "ButtonModel",
          "state": {
            "_dom_classes": [],
            "_model_module": "@jupyter-widgets/controls",
            "_model_module_version": "1.5.0",
            "_model_name": "ButtonModel",
            "_view_count": null,
            "_view_module": "@jupyter-widgets/controls",
            "_view_module_version": "1.5.0",
            "_view_name": "ButtonView",
            "button_style": "",
            "description": "Classify",
            "disabled": false,
            "icon": "",
            "layout": "IPY_MODEL_0f894186530c4bbe9a1cd1fe0855d700",
            "style": "IPY_MODEL_da056458338c4cd4a9c2888fb83d3b72",
            "tooltip": ""
          }
        },
        "da056458338c4cd4a9c2888fb83d3b72": {
          "model_module": "@jupyter-widgets/controls",
          "model_module_version": "1.5.0",
          "model_name": "ButtonStyleModel",
          "state": {
            "_model_module": "@jupyter-widgets/controls",
            "_model_module_version": "1.5.0",
            "_model_name": "ButtonStyleModel",
            "_view_count": null,
            "_view_module": "@jupyter-widgets/base",
            "_view_module_version": "1.2.0",
            "_view_name": "StyleView",
            "button_color": null,
            "font_weight": ""
          }
        },
        "dddfbf2e2f0344b8812c12a35de6da44": {
          "model_module": "@jupyter-widgets/base",
          "model_module_version": "1.2.0",
          "model_name": "LayoutModel",
          "state": {
            "_model_module": "@jupyter-widgets/base",
            "_model_module_version": "1.2.0",
            "_model_name": "LayoutModel",
            "_view_count": null,
            "_view_module": "@jupyter-widgets/base",
            "_view_module_version": "1.2.0",
            "_view_name": "LayoutView",
            "align_content": null,
            "align_items": null,
            "align_self": null,
            "border": null,
            "bottom": null,
            "display": null,
            "flex": null,
            "flex_flow": null,
            "grid_area": null,
            "grid_auto_columns": null,
            "grid_auto_flow": null,
            "grid_auto_rows": null,
            "grid_column": null,
            "grid_gap": null,
            "grid_row": null,
            "grid_template_areas": null,
            "grid_template_columns": null,
            "grid_template_rows": null,
            "height": null,
            "justify_content": null,
            "justify_items": null,
            "left": null,
            "margin": null,
            "max_height": null,
            "max_width": null,
            "min_height": null,
            "min_width": null,
            "object_fit": null,
            "object_position": null,
            "order": null,
            "overflow": null,
            "overflow_x": null,
            "overflow_y": null,
            "padding": null,
            "right": null,
            "top": null,
            "visibility": null,
            "width": null
          }
        },
        "fa22f9fd75a2483b80ea09d134bc1ef8": {
          "model_module": "@jupyter-widgets/controls",
          "model_module_version": "1.5.0",
          "model_name": "DescriptionStyleModel",
          "state": {
            "_model_module": "@jupyter-widgets/controls",
            "_model_module_version": "1.5.0",
            "_model_name": "DescriptionStyleModel",
            "_view_count": null,
            "_view_module": "@jupyter-widgets/base",
            "_view_module_version": "1.2.0",
            "_view_name": "StyleView",
            "description_width": ""
          }
        }
      }
    }
  },
  "nbformat": 4,
  "nbformat_minor": 2
}
